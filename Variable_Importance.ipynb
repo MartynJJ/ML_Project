{
 "cells": [
  {
   "cell_type": "code",
   "execution_count": 1,
   "metadata": {},
   "outputs": [],
   "source": [
    "import numpy as np\n",
    "import pandas as pd\n",
    "import matplotlib.pyplot as plt\n",
    "import seaborn as sns\n",
    "from sklearn.ensemble import RandomForestClassifier\n",
    "from sklearn.model_selection import train_test_split\n",
    "from sklearn.preprocessing import LabelEncoder"
   ]
  },
  {
   "cell_type": "markdown",
   "metadata": {},
   "source": [
    "Full data set will be cleaned up prior to splitting into train, test and final."
   ]
  },
  {
   "cell_type": "markdown",
   "metadata": {},
   "source": [
    "Put completed_loans_2017.csv file in ./Data/ for this notebook to run."
   ]
  },
  {
   "cell_type": "markdown",
   "metadata": {},
   "source": [
    "# Initial Data Load and Clean Up"
   ]
  },
  {
   "cell_type": "code",
   "execution_count": 2,
   "metadata": {},
   "outputs": [],
   "source": [
    "data = pd.read_csv('./Data/completed_loans_2017.csv', low_memory=0)"
   ]
  },
  {
   "cell_type": "code",
   "execution_count": 3,
   "metadata": {},
   "outputs": [
    {
     "data": {
      "text/plain": [
       "(263720, 150)"
      ]
     },
     "execution_count": 3,
     "metadata": {},
     "output_type": "execute_result"
    }
   ],
   "source": [
    "rows, columns = data.shape\n",
    "data.shape"
   ]
  },
  {
   "cell_type": "markdown",
   "metadata": {},
   "source": [
    "150 columns, just over 1/4 million lines."
   ]
  },
  {
   "cell_type": "code",
   "execution_count": 4,
   "metadata": {},
   "outputs": [
    {
     "data": {
      "text/html": [
       "<div>\n",
       "<style scoped>\n",
       "    .dataframe tbody tr th:only-of-type {\n",
       "        vertical-align: middle;\n",
       "    }\n",
       "\n",
       "    .dataframe tbody tr th {\n",
       "        vertical-align: top;\n",
       "    }\n",
       "\n",
       "    .dataframe thead th {\n",
       "        text-align: right;\n",
       "    }\n",
       "</style>\n",
       "<table border=\"1\" class=\"dataframe\">\n",
       "  <thead>\n",
       "    <tr style=\"text-align: right;\">\n",
       "      <th></th>\n",
       "      <th>% Missing Values</th>\n",
       "    </tr>\n",
       "  </thead>\n",
       "  <tbody>\n",
       "    <tr>\n",
       "      <th>count</th>\n",
       "      <td>62.000000</td>\n",
       "    </tr>\n",
       "    <tr>\n",
       "      <th>mean</th>\n",
       "      <td>66.972259</td>\n",
       "    </tr>\n",
       "    <tr>\n",
       "      <th>std</th>\n",
       "      <td>42.121467</td>\n",
       "    </tr>\n",
       "    <tr>\n",
       "      <th>min</th>\n",
       "      <td>0.000379</td>\n",
       "    </tr>\n",
       "    <tr>\n",
       "      <th>25%</th>\n",
       "      <td>7.883930</td>\n",
       "    </tr>\n",
       "    <tr>\n",
       "      <th>50%</th>\n",
       "      <td>92.705521</td>\n",
       "    </tr>\n",
       "    <tr>\n",
       "      <th>75%</th>\n",
       "      <td>99.137722</td>\n",
       "    </tr>\n",
       "    <tr>\n",
       "      <th>max</th>\n",
       "      <td>100.000000</td>\n",
       "    </tr>\n",
       "  </tbody>\n",
       "</table>\n",
       "</div>"
      ],
      "text/plain": [
       "       % Missing Values\n",
       "count         62.000000\n",
       "mean          66.972259\n",
       "std           42.121467\n",
       "min            0.000379\n",
       "25%            7.883930\n",
       "50%           92.705521\n",
       "75%           99.137722\n",
       "max          100.000000"
      ]
     },
     "execution_count": 4,
     "metadata": {},
     "output_type": "execute_result"
    }
   ],
   "source": [
    "missing_values = pd.DataFrame((data.isnull().sum()/rows)* 100, columns=[\"% Missing Values\"])\n",
    "missing_values[\"Missing_Values\"] = missing_values[\"% Missing Values\"] > 0\n",
    "cols_with_missing_values = missing_values[missing_values.Missing_Values].index\n",
    "missing_values[missing_values.Missing_Values].describe()"
   ]
  },
  {
   "cell_type": "markdown",
   "metadata": {},
   "source": [
    "62 columns with missing values with some up to 100% missing."
   ]
  },
  {
   "cell_type": "code",
   "execution_count": 5,
   "metadata": {},
   "outputs": [],
   "source": [
    "data.loan_status = (data.loan_status == \"Charged Off\").astype('int8')"
   ]
  },
  {
   "cell_type": "code",
   "execution_count": 6,
   "metadata": {},
   "outputs": [
    {
     "data": {
      "text/plain": [
       "0.23006977096920977"
      ]
     },
     "execution_count": 6,
     "metadata": {},
     "output_type": "execute_result"
    }
   ],
   "source": [
    "data.loan_status.mean()"
   ]
  },
  {
   "cell_type": "markdown",
   "metadata": {},
   "source": [
    "Default rate is 23%"
   ]
  },
  {
   "cell_type": "code",
   "execution_count": 7,
   "metadata": {},
   "outputs": [
    {
     "data": {
      "text/plain": [
       "(35,)"
      ]
     },
     "execution_count": 7,
     "metadata": {},
     "output_type": "execute_result"
    }
   ],
   "source": [
    "non_numerical_columns = data.columns[data.dtypes==\"object\"]\n",
    "non_numerical_columns.shape"
   ]
  },
  {
   "cell_type": "markdown",
   "metadata": {},
   "source": [
    "There are 35 columns that are not numerical, some may be formatting, others will need encoding."
   ]
  },
  {
   "cell_type": "code",
   "execution_count": 8,
   "metadata": {},
   "outputs": [
    {
     "data": {
      "text/html": [
       "<div>\n",
       "<style scoped>\n",
       "    .dataframe tbody tr th:only-of-type {\n",
       "        vertical-align: middle;\n",
       "    }\n",
       "\n",
       "    .dataframe tbody tr th {\n",
       "        vertical-align: top;\n",
       "    }\n",
       "\n",
       "    .dataframe thead th {\n",
       "        text-align: right;\n",
       "    }\n",
       "</style>\n",
       "<table border=\"1\" class=\"dataframe\">\n",
       "  <thead>\n",
       "    <tr style=\"text-align: right;\">\n",
       "      <th></th>\n",
       "      <th>70</th>\n",
       "      <th>71</th>\n",
       "      <th>72</th>\n",
       "      <th>73</th>\n",
       "      <th>unique</th>\n",
       "    </tr>\n",
       "  </thead>\n",
       "  <tbody>\n",
       "    <tr>\n",
       "      <th>url</th>\n",
       "      <td>https://lendingclub.com/browse/loanDetail.acti...</td>\n",
       "      <td>https://lendingclub.com/browse/loanDetail.acti...</td>\n",
       "      <td>https://lendingclub.com/browse/loanDetail.acti...</td>\n",
       "      <td>https://lendingclub.com/browse/loanDetail.acti...</td>\n",
       "      <td>263720</td>\n",
       "    </tr>\n",
       "    <tr>\n",
       "      <th>emp_title</th>\n",
       "      <td>VIP Art Associate</td>\n",
       "      <td>Court Liaison</td>\n",
       "      <td>Senior Account Manager</td>\n",
       "      <td>Machine Operator</td>\n",
       "      <td>79726</td>\n",
       "    </tr>\n",
       "    <tr>\n",
       "      <th>revol_util</th>\n",
       "      <td>81.5%</td>\n",
       "      <td>95.2%</td>\n",
       "      <td>84.3%</td>\n",
       "      <td>11.2%</td>\n",
       "      <td>1117</td>\n",
       "    </tr>\n",
       "    <tr>\n",
       "      <th>zip_code</th>\n",
       "      <td>113xx</td>\n",
       "      <td>088xx</td>\n",
       "      <td>640xx</td>\n",
       "      <td>372xx</td>\n",
       "      <td>891</td>\n",
       "    </tr>\n",
       "    <tr>\n",
       "      <th>earliest_cr_line</th>\n",
       "      <td>Jan-2002</td>\n",
       "      <td>Mar-1991</td>\n",
       "      <td>Apr-2002</td>\n",
       "      <td>May-2007</td>\n",
       "      <td>666</td>\n",
       "    </tr>\n",
       "    <tr>\n",
       "      <th>sec_app_earliest_cr_line</th>\n",
       "      <td>NaN</td>\n",
       "      <td>NaN</td>\n",
       "      <td>NaN</td>\n",
       "      <td>NaN</td>\n",
       "      <td>566</td>\n",
       "    </tr>\n",
       "    <tr>\n",
       "      <th>int_rate</th>\n",
       "      <td>11.49%</td>\n",
       "      <td>14.99%</td>\n",
       "      <td>14.99%</td>\n",
       "      <td>23.99%</td>\n",
       "      <td>67</td>\n",
       "    </tr>\n",
       "    <tr>\n",
       "      <th>addr_state</th>\n",
       "      <td>NY</td>\n",
       "      <td>NJ</td>\n",
       "      <td>MO</td>\n",
       "      <td>TN</td>\n",
       "      <td>50</td>\n",
       "    </tr>\n",
       "    <tr>\n",
       "      <th>last_credit_pull_d</th>\n",
       "      <td>Nov-2018</td>\n",
       "      <td>Jan-2019</td>\n",
       "      <td>May-2018</td>\n",
       "      <td>Jan-2020</td>\n",
       "      <td>39</td>\n",
       "    </tr>\n",
       "    <tr>\n",
       "      <th>last_pymnt_d</th>\n",
       "      <td>Jun-2018</td>\n",
       "      <td>Feb-2019</td>\n",
       "      <td>May-2018</td>\n",
       "      <td>Feb-2019</td>\n",
       "      <td>38</td>\n",
       "    </tr>\n",
       "    <tr>\n",
       "      <th>sub_grade</th>\n",
       "      <td>B5</td>\n",
       "      <td>C4</td>\n",
       "      <td>C4</td>\n",
       "      <td>E2</td>\n",
       "      <td>35</td>\n",
       "    </tr>\n",
       "    <tr>\n",
       "      <th>settlement_date</th>\n",
       "      <td>NaN</td>\n",
       "      <td>NaN</td>\n",
       "      <td>NaN</td>\n",
       "      <td>Oct-2019</td>\n",
       "      <td>33</td>\n",
       "    </tr>\n",
       "    <tr>\n",
       "      <th>payment_plan_start_date</th>\n",
       "      <td>NaN</td>\n",
       "      <td>NaN</td>\n",
       "      <td>NaN</td>\n",
       "      <td>NaN</td>\n",
       "      <td>30</td>\n",
       "    </tr>\n",
       "    <tr>\n",
       "      <th>hardship_end_date</th>\n",
       "      <td>NaN</td>\n",
       "      <td>NaN</td>\n",
       "      <td>NaN</td>\n",
       "      <td>NaN</td>\n",
       "      <td>29</td>\n",
       "    </tr>\n",
       "    <tr>\n",
       "      <th>debt_settlement_flag_date</th>\n",
       "      <td>NaN</td>\n",
       "      <td>NaN</td>\n",
       "      <td>NaN</td>\n",
       "      <td>Nov-2019</td>\n",
       "      <td>29</td>\n",
       "    </tr>\n",
       "    <tr>\n",
       "      <th>hardship_start_date</th>\n",
       "      <td>NaN</td>\n",
       "      <td>NaN</td>\n",
       "      <td>NaN</td>\n",
       "      <td>NaN</td>\n",
       "      <td>29</td>\n",
       "    </tr>\n",
       "    <tr>\n",
       "      <th>title</th>\n",
       "      <td>Credit card refinancing</td>\n",
       "      <td>Debt consolidation</td>\n",
       "      <td>Debt consolidation</td>\n",
       "      <td>Vacation</td>\n",
       "      <td>13</td>\n",
       "    </tr>\n",
       "    <tr>\n",
       "      <th>purpose</th>\n",
       "      <td>credit_card</td>\n",
       "      <td>debt_consolidation</td>\n",
       "      <td>debt_consolidation</td>\n",
       "      <td>vacation</td>\n",
       "      <td>13</td>\n",
       "    </tr>\n",
       "    <tr>\n",
       "      <th>issue_d</th>\n",
       "      <td>Mar-2017</td>\n",
       "      <td>Mar-2017</td>\n",
       "      <td>Mar-2017</td>\n",
       "      <td>Mar-2017</td>\n",
       "      <td>12</td>\n",
       "    </tr>\n",
       "    <tr>\n",
       "      <th>emp_length</th>\n",
       "      <td>3 years</td>\n",
       "      <td>10+ years</td>\n",
       "      <td>&lt; 1 year</td>\n",
       "      <td>&lt; 1 year</td>\n",
       "      <td>11</td>\n",
       "    </tr>\n",
       "    <tr>\n",
       "      <th>hardship_reason</th>\n",
       "      <td>NaN</td>\n",
       "      <td>NaN</td>\n",
       "      <td>NaN</td>\n",
       "      <td>NaN</td>\n",
       "      <td>9</td>\n",
       "    </tr>\n",
       "    <tr>\n",
       "      <th>grade</th>\n",
       "      <td>B</td>\n",
       "      <td>C</td>\n",
       "      <td>C</td>\n",
       "      <td>E</td>\n",
       "      <td>7</td>\n",
       "    </tr>\n",
       "    <tr>\n",
       "      <th>home_ownership</th>\n",
       "      <td>RENT</td>\n",
       "      <td>MORTGAGE</td>\n",
       "      <td>RENT</td>\n",
       "      <td>MORTGAGE</td>\n",
       "      <td>5</td>\n",
       "    </tr>\n",
       "    <tr>\n",
       "      <th>hardship_loan_status</th>\n",
       "      <td>NaN</td>\n",
       "      <td>NaN</td>\n",
       "      <td>NaN</td>\n",
       "      <td>NaN</td>\n",
       "      <td>5</td>\n",
       "    </tr>\n",
       "    <tr>\n",
       "      <th>settlement_status</th>\n",
       "      <td>NaN</td>\n",
       "      <td>NaN</td>\n",
       "      <td>NaN</td>\n",
       "      <td>ACTIVE</td>\n",
       "      <td>3</td>\n",
       "    </tr>\n",
       "    <tr>\n",
       "      <th>verification_status</th>\n",
       "      <td>Not Verified</td>\n",
       "      <td>Not Verified</td>\n",
       "      <td>Source Verified</td>\n",
       "      <td>Source Verified</td>\n",
       "      <td>3</td>\n",
       "    </tr>\n",
       "    <tr>\n",
       "      <th>verification_status_joint</th>\n",
       "      <td>NaN</td>\n",
       "      <td>NaN</td>\n",
       "      <td>NaN</td>\n",
       "      <td>NaN</td>\n",
       "      <td>3</td>\n",
       "    </tr>\n",
       "    <tr>\n",
       "      <th>debt_settlement_flag</th>\n",
       "      <td>N</td>\n",
       "      <td>N</td>\n",
       "      <td>N</td>\n",
       "      <td>Y</td>\n",
       "      <td>2</td>\n",
       "    </tr>\n",
       "    <tr>\n",
       "      <th>term</th>\n",
       "      <td>36 months</td>\n",
       "      <td>60 months</td>\n",
       "      <td>60 months</td>\n",
       "      <td>36 months</td>\n",
       "      <td>2</td>\n",
       "    </tr>\n",
       "    <tr>\n",
       "      <th>hardship_status</th>\n",
       "      <td>NaN</td>\n",
       "      <td>NaN</td>\n",
       "      <td>NaN</td>\n",
       "      <td>NaN</td>\n",
       "      <td>2</td>\n",
       "    </tr>\n",
       "    <tr>\n",
       "      <th>application_type</th>\n",
       "      <td>Individual</td>\n",
       "      <td>Individual</td>\n",
       "      <td>Individual</td>\n",
       "      <td>Individual</td>\n",
       "      <td>2</td>\n",
       "    </tr>\n",
       "    <tr>\n",
       "      <th>initial_list_status</th>\n",
       "      <td>w</td>\n",
       "      <td>w</td>\n",
       "      <td>w</td>\n",
       "      <td>f</td>\n",
       "      <td>2</td>\n",
       "    </tr>\n",
       "    <tr>\n",
       "      <th>hardship_type</th>\n",
       "      <td>NaN</td>\n",
       "      <td>NaN</td>\n",
       "      <td>NaN</td>\n",
       "      <td>NaN</td>\n",
       "      <td>1</td>\n",
       "    </tr>\n",
       "    <tr>\n",
       "      <th>hardship_flag</th>\n",
       "      <td>N</td>\n",
       "      <td>N</td>\n",
       "      <td>N</td>\n",
       "      <td>N</td>\n",
       "      <td>1</td>\n",
       "    </tr>\n",
       "    <tr>\n",
       "      <th>pymnt_plan</th>\n",
       "      <td>n</td>\n",
       "      <td>n</td>\n",
       "      <td>n</td>\n",
       "      <td>n</td>\n",
       "      <td>1</td>\n",
       "    </tr>\n",
       "  </tbody>\n",
       "</table>\n",
       "</div>"
      ],
      "text/plain": [
       "                                                                          70  \\\n",
       "url                        https://lendingclub.com/browse/loanDetail.acti...   \n",
       "emp_title                                                  VIP Art Associate   \n",
       "revol_util                                                             81.5%   \n",
       "zip_code                                                               113xx   \n",
       "earliest_cr_line                                                    Jan-2002   \n",
       "sec_app_earliest_cr_line                                                 NaN   \n",
       "int_rate                                                              11.49%   \n",
       "addr_state                                                                NY   \n",
       "last_credit_pull_d                                                  Nov-2018   \n",
       "last_pymnt_d                                                        Jun-2018   \n",
       "sub_grade                                                                 B5   \n",
       "settlement_date                                                          NaN   \n",
       "payment_plan_start_date                                                  NaN   \n",
       "hardship_end_date                                                        NaN   \n",
       "debt_settlement_flag_date                                                NaN   \n",
       "hardship_start_date                                                      NaN   \n",
       "title                                                Credit card refinancing   \n",
       "purpose                                                          credit_card   \n",
       "issue_d                                                             Mar-2017   \n",
       "emp_length                                                           3 years   \n",
       "hardship_reason                                                          NaN   \n",
       "grade                                                                      B   \n",
       "home_ownership                                                          RENT   \n",
       "hardship_loan_status                                                     NaN   \n",
       "settlement_status                                                        NaN   \n",
       "verification_status                                             Not Verified   \n",
       "verification_status_joint                                                NaN   \n",
       "debt_settlement_flag                                                       N   \n",
       "term                                                               36 months   \n",
       "hardship_status                                                          NaN   \n",
       "application_type                                                  Individual   \n",
       "initial_list_status                                                        w   \n",
       "hardship_type                                                            NaN   \n",
       "hardship_flag                                                              N   \n",
       "pymnt_plan                                                                 n   \n",
       "\n",
       "                                                                          71  \\\n",
       "url                        https://lendingclub.com/browse/loanDetail.acti...   \n",
       "emp_title                                                     Court Liaison    \n",
       "revol_util                                                             95.2%   \n",
       "zip_code                                                               088xx   \n",
       "earliest_cr_line                                                    Mar-1991   \n",
       "sec_app_earliest_cr_line                                                 NaN   \n",
       "int_rate                                                              14.99%   \n",
       "addr_state                                                                NJ   \n",
       "last_credit_pull_d                                                  Jan-2019   \n",
       "last_pymnt_d                                                        Feb-2019   \n",
       "sub_grade                                                                 C4   \n",
       "settlement_date                                                          NaN   \n",
       "payment_plan_start_date                                                  NaN   \n",
       "hardship_end_date                                                        NaN   \n",
       "debt_settlement_flag_date                                                NaN   \n",
       "hardship_start_date                                                      NaN   \n",
       "title                                                     Debt consolidation   \n",
       "purpose                                                   debt_consolidation   \n",
       "issue_d                                                             Mar-2017   \n",
       "emp_length                                                         10+ years   \n",
       "hardship_reason                                                          NaN   \n",
       "grade                                                                      C   \n",
       "home_ownership                                                      MORTGAGE   \n",
       "hardship_loan_status                                                     NaN   \n",
       "settlement_status                                                        NaN   \n",
       "verification_status                                             Not Verified   \n",
       "verification_status_joint                                                NaN   \n",
       "debt_settlement_flag                                                       N   \n",
       "term                                                               60 months   \n",
       "hardship_status                                                          NaN   \n",
       "application_type                                                  Individual   \n",
       "initial_list_status                                                        w   \n",
       "hardship_type                                                            NaN   \n",
       "hardship_flag                                                              N   \n",
       "pymnt_plan                                                                 n   \n",
       "\n",
       "                                                                          72  \\\n",
       "url                        https://lendingclub.com/browse/loanDetail.acti...   \n",
       "emp_title                                             Senior Account Manager   \n",
       "revol_util                                                             84.3%   \n",
       "zip_code                                                               640xx   \n",
       "earliest_cr_line                                                    Apr-2002   \n",
       "sec_app_earliest_cr_line                                                 NaN   \n",
       "int_rate                                                              14.99%   \n",
       "addr_state                                                                MO   \n",
       "last_credit_pull_d                                                  May-2018   \n",
       "last_pymnt_d                                                        May-2018   \n",
       "sub_grade                                                                 C4   \n",
       "settlement_date                                                          NaN   \n",
       "payment_plan_start_date                                                  NaN   \n",
       "hardship_end_date                                                        NaN   \n",
       "debt_settlement_flag_date                                                NaN   \n",
       "hardship_start_date                                                      NaN   \n",
       "title                                                     Debt consolidation   \n",
       "purpose                                                   debt_consolidation   \n",
       "issue_d                                                             Mar-2017   \n",
       "emp_length                                                          < 1 year   \n",
       "hardship_reason                                                          NaN   \n",
       "grade                                                                      C   \n",
       "home_ownership                                                          RENT   \n",
       "hardship_loan_status                                                     NaN   \n",
       "settlement_status                                                        NaN   \n",
       "verification_status                                          Source Verified   \n",
       "verification_status_joint                                                NaN   \n",
       "debt_settlement_flag                                                       N   \n",
       "term                                                               60 months   \n",
       "hardship_status                                                          NaN   \n",
       "application_type                                                  Individual   \n",
       "initial_list_status                                                        w   \n",
       "hardship_type                                                            NaN   \n",
       "hardship_flag                                                              N   \n",
       "pymnt_plan                                                                 n   \n",
       "\n",
       "                                                                          73  \\\n",
       "url                        https://lendingclub.com/browse/loanDetail.acti...   \n",
       "emp_title                                                   Machine Operator   \n",
       "revol_util                                                             11.2%   \n",
       "zip_code                                                               372xx   \n",
       "earliest_cr_line                                                    May-2007   \n",
       "sec_app_earliest_cr_line                                                 NaN   \n",
       "int_rate                                                              23.99%   \n",
       "addr_state                                                                TN   \n",
       "last_credit_pull_d                                                  Jan-2020   \n",
       "last_pymnt_d                                                        Feb-2019   \n",
       "sub_grade                                                                 E2   \n",
       "settlement_date                                                     Oct-2019   \n",
       "payment_plan_start_date                                                  NaN   \n",
       "hardship_end_date                                                        NaN   \n",
       "debt_settlement_flag_date                                           Nov-2019   \n",
       "hardship_start_date                                                      NaN   \n",
       "title                                                               Vacation   \n",
       "purpose                                                             vacation   \n",
       "issue_d                                                             Mar-2017   \n",
       "emp_length                                                          < 1 year   \n",
       "hardship_reason                                                          NaN   \n",
       "grade                                                                      E   \n",
       "home_ownership                                                      MORTGAGE   \n",
       "hardship_loan_status                                                     NaN   \n",
       "settlement_status                                                     ACTIVE   \n",
       "verification_status                                          Source Verified   \n",
       "verification_status_joint                                                NaN   \n",
       "debt_settlement_flag                                                       Y   \n",
       "term                                                               36 months   \n",
       "hardship_status                                                          NaN   \n",
       "application_type                                                  Individual   \n",
       "initial_list_status                                                        f   \n",
       "hardship_type                                                            NaN   \n",
       "hardship_flag                                                              N   \n",
       "pymnt_plan                                                                 n   \n",
       "\n",
       "                           unique  \n",
       "url                        263720  \n",
       "emp_title                   79726  \n",
       "revol_util                   1117  \n",
       "zip_code                      891  \n",
       "earliest_cr_line              666  \n",
       "sec_app_earliest_cr_line      566  \n",
       "int_rate                       67  \n",
       "addr_state                     50  \n",
       "last_credit_pull_d             39  \n",
       "last_pymnt_d                   38  \n",
       "sub_grade                      35  \n",
       "settlement_date                33  \n",
       "payment_plan_start_date        30  \n",
       "hardship_end_date              29  \n",
       "debt_settlement_flag_date      29  \n",
       "hardship_start_date            29  \n",
       "title                          13  \n",
       "purpose                        13  \n",
       "issue_d                        12  \n",
       "emp_length                     11  \n",
       "hardship_reason                 9  \n",
       "grade                           7  \n",
       "home_ownership                  5  \n",
       "hardship_loan_status            5  \n",
       "settlement_status               3  \n",
       "verification_status             3  \n",
       "verification_status_joint       3  \n",
       "debt_settlement_flag            2  \n",
       "term                            2  \n",
       "hardship_status                 2  \n",
       "application_type                2  \n",
       "initial_list_status             2  \n",
       "hardship_type                   1  \n",
       "hardship_flag                   1  \n",
       "pymnt_plan                      1  "
      ]
     },
     "execution_count": 8,
     "metadata": {},
     "output_type": "execute_result"
    }
   ],
   "source": [
    "non_nums = (data[non_numerical_columns][70:74].T)\n",
    "non_nums['unique'] = data[non_numerical_columns].nunique()\n",
    "non_nums.sort_values('unique', ascending=0)\n"
   ]
  },
  {
   "cell_type": "markdown",
   "metadata": {},
   "source": [
    "There are a few columns that are dates and % which can be enumerated."
   ]
  },
  {
   "cell_type": "code",
   "execution_count": 9,
   "metadata": {},
   "outputs": [],
   "source": [
    "pctstr_cols = ['int_rate', 'revol_util']\n",
    "datestr_cols = ['issue_d','earliest_cr_line', 'last_pymnt_d', 'last_credit_pull_d',\\\n",
    "                'settlement_date','payment_plan_start_date','hardship_end_date',\\\n",
    "               'debt_settlement_flag_date','hardship_start_date','sec_app_earliest_cr_line']\n",
    "def pcent_to_float(df, col):\n",
    "    return df[df[col].notnull()][col].apply(lambda x: (str(x)[:-1])).astype('float16')\n",
    "def date_to_int(df, col):\n",
    "    return ((pd.to_datetime(df[df[col].notnull()][col]) - pd.to_datetime(df[df[col].notnull()][col]).min())/ (10**11)).astype('int64').astype('int32')"
   ]
  },
  {
   "cell_type": "markdown",
   "metadata": {},
   "source": [
    "url is just link to the loan page and emp_title has too much dimensionality to be of use with this data set so will be removed."
   ]
  },
  {
   "cell_type": "code",
   "execution_count": 10,
   "metadata": {},
   "outputs": [],
   "source": [
    "non_numerical_columns = list(set(non_numerical_columns) - set(pctstr_cols) - set(datestr_cols))\n",
    "remove_cols = [non_numerical_columns.pop(non_numerical_columns.index('url'))]\n",
    "remove_cols.append(non_numerical_columns.pop(non_numerical_columns.index('emp_title')))"
   ]
  },
  {
   "cell_type": "code",
   "execution_count": 11,
   "metadata": {},
   "outputs": [],
   "source": [
    "remove_cols.append('id')\n",
    "remove_cols.append('Unnamed: 0')\n"
   ]
  },
  {
   "cell_type": "code",
   "execution_count": 12,
   "metadata": {},
   "outputs": [
    {
     "data": {
      "text/plain": [
       "['zip_code',\n",
       " 'emp_length',\n",
       " 'application_type',\n",
       " 'hardship_status',\n",
       " 'home_ownership',\n",
       " 'pymnt_plan',\n",
       " 'debt_settlement_flag',\n",
       " 'verification_status',\n",
       " 'initial_list_status',\n",
       " 'addr_state',\n",
       " 'sub_grade',\n",
       " 'hardship_reason',\n",
       " 'purpose',\n",
       " 'term',\n",
       " 'grade',\n",
       " 'hardship_flag',\n",
       " 'title',\n",
       " 'hardship_loan_status',\n",
       " 'settlement_status',\n",
       " 'hardship_type',\n",
       " 'verification_status_joint']"
      ]
     },
     "execution_count": 12,
     "metadata": {},
     "output_type": "execute_result"
    }
   ],
   "source": [
    "non_numerical_columns"
   ]
  },
  {
   "cell_type": "code",
   "execution_count": 13,
   "metadata": {},
   "outputs": [],
   "source": [
    "del data"
   ]
  },
  {
   "cell_type": "markdown",
   "metadata": {},
   "source": [
    "# Train Test Final Clean Up"
   ]
  },
  {
   "cell_type": "code",
   "execution_count": 14,
   "metadata": {},
   "outputs": [],
   "source": [
    "train = pd.read_csv('Data/train.csv')\n",
    "test = pd.read_csv('Data/test.csv')\n",
    "final = pd.read_csv('Data/final.csv')\n",
    "files = [train, test, final]"
   ]
  },
  {
   "cell_type": "code",
   "execution_count": 15,
   "metadata": {},
   "outputs": [],
   "source": [
    "non_numerical_columns = list(set(non_numerical_columns)-\n",
    "                             set(['hardship_flag', 'hardship_type', 'pymnt_plan']))"
   ]
  },
  {
   "cell_type": "code",
   "execution_count": 16,
   "metadata": {},
   "outputs": [],
   "source": [
    "for file in files:\n",
    "    for col in pctstr_cols:\n",
    "        file[col] = pcent_to_float(file, col)\n",
    "    for col in datestr_cols:\n",
    "        file[col] = date_to_int(file, col)\n",
    "    file.drop(remove_cols, axis = 1, inplace=True)\n"
   ]
  },
  {
   "cell_type": "code",
   "execution_count": 17,
   "metadata": {},
   "outputs": [],
   "source": [
    "le = LabelEncoder()"
   ]
  },
  {
   "cell_type": "code",
   "execution_count": 18,
   "metadata": {},
   "outputs": [],
   "source": [
    "for file in files:\n",
    "    for col in non_numerical_columns:\n",
    "        le.fit(file[col].astype('str'))\n",
    "        file[col] = le.transform(file[col].astype('str'))"
   ]
  },
  {
   "cell_type": "markdown",
   "metadata": {},
   "source": [
    "# Variable Importance from RF"
   ]
  },
  {
   "cell_type": "code",
   "execution_count": 19,
   "metadata": {},
   "outputs": [],
   "source": [
    "y_train = train.loan_status\n",
    "y_test = test.loan_status\n",
    "y_final = final.loan_status\n",
    "X_train = train.drop('loan_status', axis=1)\n",
    "X_test = test.drop('loan_status', axis=1)\n",
    "X_final = final.drop('loan_status', axis=1)"
   ]
  },
  {
   "cell_type": "code",
   "execution_count": null,
   "metadata": {},
   "outputs": [],
   "source": []
  },
  {
   "cell_type": "code",
   "execution_count": 20,
   "metadata": {},
   "outputs": [],
   "source": [
    "X_train.fillna(0, inplace=True)"
   ]
  },
  {
   "cell_type": "code",
   "execution_count": 21,
   "metadata": {},
   "outputs": [],
   "source": [
    "fitrf = RandomForestClassifier(n_estimators = 500, oob_score = True, min_samples_leaf = 10)"
   ]
  },
  {
   "cell_type": "code",
   "execution_count": 22,
   "metadata": {},
   "outputs": [],
   "source": [
    "fitrf.fit(X_train, y_train)\n",
    "None"
   ]
  },
  {
   "cell_type": "code",
   "execution_count": 27,
   "metadata": {},
   "outputs": [
    {
     "data": {
      "image/png": "[encoded data removed]",
      "text/plain": [
       "<Figure size 864x864 with 1 Axes>"
      ]
     },
     "metadata": {
      "needs_background": "light"
     },
     "output_type": "display_data"
    }
   ],
   "source": [
    "X_features = list(X_train.columns)[:20]\n",
    "rf_importances = fitrf.feature_importances_[:20]\n",
    "indices = np.argsort(rf_importances)\n",
    "\n",
    "fig = plt.figure(figsize=[12,12])\n",
    "axs = fig.subplots(1,1)\n",
    "plt.yticks(range(len(indices)), [X_features[i] for i in indices])\n",
    "axs.barh(range(len(indices)), rf_importances[indices], align='center')\n",
    "axs.set_title(\"Variable Importance Plot\", size ='14')\n",
    "axs.set_ylabel(\"Variables\", size='12'); axs.set_xlabel(\"Importance\", size='12')\n",
    "None\n"
   ]
  }
 ],
 "metadata": {
  "kernelspec": {
   "display_name": "Python 3",
   "language": "python",
   "name": "python3"
  },
  "language_info": {
   "codemirror_mode": {
    "name": "ipython",
    "version": 3
   },
   "file_extension": ".py",
   "mimetype": "text/x-python",
   "name": "python",
   "nbconvert_exporter": "python",
   "pygments_lexer": "ipython3",
   "version": "3.8.1"
  }
 },
 "nbformat": 4,
 "nbformat_minor": 4
}
