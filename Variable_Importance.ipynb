{
 "cells": [
  {
   "cell_type": "code",
   "execution_count": 1,
   "metadata": {},
   "outputs": [],
   "source": [
    "import numpy as np\n",
    "import pandas as pd\n",
    "import matplotlib.pyplot as plt\n",
    "import seaborn as sns\n",
    "from sklearn.ensemble import RandomForestClassifier\n",
    "from sklearn.model_selection import train_test_split\n",
    "from sklearn.preprocessing import LabelEncoder"
   ]
  },
  {
   "cell_type": "markdown",
   "metadata": {},
   "source": [
    "Full data set will be cleaned up prior to splitting into train, test and final."
   ]
  },
  {
   "cell_type": "markdown",
   "metadata": {},
   "source": [
    "Put completed_loans_2017.csv file in ./Data/ for this notebook to run."
   ]
  },
  {
   "cell_type": "markdown",
   "metadata": {},
   "source": [
    "# Initial Data Load and Clean Up"
   ]
  },
  {
   "cell_type": "code",
   "execution_count": 2,
   "metadata": {},
   "outputs": [],
   "source": [
    "data = pd.read_csv('./Data/completed_loans_2017.csv', low_memory=0)"
   ]
  },
  {
   "cell_type": "code",
   "execution_count": 3,
   "metadata": {},
   "outputs": [
    {
     "data": {
      "text/plain": [
       "(263720, 150)"
      ]
     },
     "execution_count": 3,
     "metadata": {},
     "output_type": "execute_result"
    }
   ],
   "source": [
    "rows, columns = data.shape\n",
    "data.shape"
   ]
  },
  {
   "cell_type": "markdown",
   "metadata": {},
   "source": [
    "150 columns, just over 1/4 million lines."
   ]
  },
  {
   "cell_type": "code",
   "execution_count": 4,
   "metadata": {},
   "outputs": [
    {
     "data": {
      "text/html": [
       "<div>\n",
       "<style scoped>\n",
       "    .dataframe tbody tr th:only-of-type {\n",
       "        vertical-align: middle;\n",
       "    }\n",
       "\n",
       "    .dataframe tbody tr th {\n",
       "        vertical-align: top;\n",
       "    }\n",
       "\n",
       "    .dataframe thead th {\n",
       "        text-align: right;\n",
       "    }\n",
       "</style>\n",
       "<table border=\"1\" class=\"dataframe\">\n",
       "  <thead>\n",
       "    <tr style=\"text-align: right;\">\n",
       "      <th></th>\n",
       "      <th>% Missing Values</th>\n",
       "    </tr>\n",
       "  </thead>\n",
       "  <tbody>\n",
       "    <tr>\n",
       "      <td>count</td>\n",
       "      <td>62.000000</td>\n",
       "    </tr>\n",
       "    <tr>\n",
       "      <td>mean</td>\n",
       "      <td>66.972259</td>\n",
       "    </tr>\n",
       "    <tr>\n",
       "      <td>std</td>\n",
       "      <td>42.121467</td>\n",
       "    </tr>\n",
       "    <tr>\n",
       "      <td>min</td>\n",
       "      <td>0.000379</td>\n",
       "    </tr>\n",
       "    <tr>\n",
       "      <td>25%</td>\n",
       "      <td>7.883930</td>\n",
       "    </tr>\n",
       "    <tr>\n",
       "      <td>50%</td>\n",
       "      <td>92.705521</td>\n",
       "    </tr>\n",
       "    <tr>\n",
       "      <td>75%</td>\n",
       "      <td>99.137722</td>\n",
       "    </tr>\n",
       "    <tr>\n",
       "      <td>max</td>\n",
       "      <td>100.000000</td>\n",
       "    </tr>\n",
       "  </tbody>\n",
       "</table>\n",
       "</div>"
      ],
      "text/plain": [
       "       % Missing Values\n",
       "count         62.000000\n",
       "mean          66.972259\n",
       "std           42.121467\n",
       "min            0.000379\n",
       "25%            7.883930\n",
       "50%           92.705521\n",
       "75%           99.137722\n",
       "max          100.000000"
      ]
     },
     "execution_count": 4,
     "metadata": {},
     "output_type": "execute_result"
    }
   ],
   "source": [
    "missing_values = pd.DataFrame((data.isnull().sum()/rows)* 100, columns=[\"% Missing Values\"])\n",
    "missing_values[\"Missing_Values\"] = missing_values[\"% Missing Values\"] > 0\n",
    "cols_with_missing_values = missing_values[missing_values.Missing_Values].index\n",
    "missing_values[missing_values.Missing_Values].describe()"
   ]
  },
  {
   "cell_type": "markdown",
   "metadata": {},
   "source": [
    "62 columns with missing values with some up to 100% missing."
   ]
  },
  {
   "cell_type": "code",
   "execution_count": 5,
   "metadata": {},
   "outputs": [],
   "source": [
    "data.loan_status = (data.loan_status == \"Charged Off\").astype('int8')"
   ]
  },
  {
   "cell_type": "code",
   "execution_count": 6,
   "metadata": {},
   "outputs": [
    {
     "data": {
      "text/plain": [
       "0.23006977096920977"
      ]
     },
     "execution_count": 6,
     "metadata": {},
     "output_type": "execute_result"
    }
   ],
   "source": [
    "data.loan_status.mean()"
   ]
  },
  {
   "cell_type": "markdown",
   "metadata": {},
   "source": [
    "Default rate is 23%"
   ]
  },
  {
   "cell_type": "code",
   "execution_count": 7,
   "metadata": {},
   "outputs": [
    {
     "data": {
      "text/plain": [
       "(35,)"
      ]
     },
     "execution_count": 7,
     "metadata": {},
     "output_type": "execute_result"
    }
   ],
   "source": [
    "non_numerical_columns = data.columns[data.dtypes==\"object\"]\n",
    "non_numerical_columns.shape"
   ]
  },
  {
   "cell_type": "markdown",
   "metadata": {},
   "source": [
    "There are 35 columns that are not numerical, some may be formatting, others will need encoding."
   ]
  },
  {
   "cell_type": "code",
   "execution_count": 8,
   "metadata": {},
   "outputs": [
    {
     "data": {
      "text/html": [
       "<div>\n",
       "<style scoped>\n",
       "    .dataframe tbody tr th:only-of-type {\n",
       "        vertical-align: middle;\n",
       "    }\n",
       "\n",
       "    .dataframe tbody tr th {\n",
       "        vertical-align: top;\n",
       "    }\n",
       "\n",
       "    .dataframe thead th {\n",
       "        text-align: right;\n",
       "    }\n",
       "</style>\n",
       "<table border=\"1\" class=\"dataframe\">\n",
       "  <thead>\n",
       "    <tr style=\"text-align: right;\">\n",
       "      <th></th>\n",
       "      <th>70</th>\n",
       "      <th>71</th>\n",
       "      <th>72</th>\n",
       "      <th>73</th>\n",
       "      <th>unique</th>\n",
       "    </tr>\n",
       "  </thead>\n",
       "  <tbody>\n",
       "    <tr>\n",
       "      <td>url</td>\n",
       "      <td>https://lendingclub.com/browse/loanDetail.acti...</td>\n",
       "      <td>https://lendingclub.com/browse/loanDetail.acti...</td>\n",
       "      <td>https://lendingclub.com/browse/loanDetail.acti...</td>\n",
       "      <td>https://lendingclub.com/browse/loanDetail.acti...</td>\n",
       "      <td>263720</td>\n",
       "    </tr>\n",
       "    <tr>\n",
       "      <td>emp_title</td>\n",
       "      <td>VIP Art Associate</td>\n",
       "      <td>Court Liaison</td>\n",
       "      <td>Senior Account Manager</td>\n",
       "      <td>Machine Operator</td>\n",
       "      <td>79726</td>\n",
       "    </tr>\n",
       "    <tr>\n",
       "      <td>revol_util</td>\n",
       "      <td>81.5%</td>\n",
       "      <td>95.2%</td>\n",
       "      <td>84.3%</td>\n",
       "      <td>11.2%</td>\n",
       "      <td>1117</td>\n",
       "    </tr>\n",
       "    <tr>\n",
       "      <td>zip_code</td>\n",
       "      <td>113xx</td>\n",
       "      <td>088xx</td>\n",
       "      <td>640xx</td>\n",
       "      <td>372xx</td>\n",
       "      <td>891</td>\n",
       "    </tr>\n",
       "    <tr>\n",
       "      <td>earliest_cr_line</td>\n",
       "      <td>Jan-2002</td>\n",
       "      <td>Mar-1991</td>\n",
       "      <td>Apr-2002</td>\n",
       "      <td>May-2007</td>\n",
       "      <td>666</td>\n",
       "    </tr>\n",
       "    <tr>\n",
       "      <td>sec_app_earliest_cr_line</td>\n",
       "      <td>NaN</td>\n",
       "      <td>NaN</td>\n",
       "      <td>NaN</td>\n",
       "      <td>NaN</td>\n",
       "      <td>566</td>\n",
       "    </tr>\n",
       "    <tr>\n",
       "      <td>int_rate</td>\n",
       "      <td>11.49%</td>\n",
       "      <td>14.99%</td>\n",
       "      <td>14.99%</td>\n",
       "      <td>23.99%</td>\n",
       "      <td>67</td>\n",
       "    </tr>\n",
       "    <tr>\n",
       "      <td>addr_state</td>\n",
       "      <td>NY</td>\n",
       "      <td>NJ</td>\n",
       "      <td>MO</td>\n",
       "      <td>TN</td>\n",
       "      <td>50</td>\n",
       "    </tr>\n",
       "    <tr>\n",
       "      <td>last_credit_pull_d</td>\n",
       "      <td>Nov-2018</td>\n",
       "      <td>Jan-2019</td>\n",
       "      <td>May-2018</td>\n",
       "      <td>Jan-2020</td>\n",
       "      <td>39</td>\n",
       "    </tr>\n",
       "    <tr>\n",
       "      <td>last_pymnt_d</td>\n",
       "      <td>Jun-2018</td>\n",
       "      <td>Feb-2019</td>\n",
       "      <td>May-2018</td>\n",
       "      <td>Feb-2019</td>\n",
       "      <td>38</td>\n",
       "    </tr>\n",
       "    <tr>\n",
       "      <td>sub_grade</td>\n",
       "      <td>B5</td>\n",
       "      <td>C4</td>\n",
       "      <td>C4</td>\n",
       "      <td>E2</td>\n",
       "      <td>35</td>\n",
       "    </tr>\n",
       "    <tr>\n",
       "      <td>settlement_date</td>\n",
       "      <td>NaN</td>\n",
       "      <td>NaN</td>\n",
       "      <td>NaN</td>\n",
       "      <td>Oct-2019</td>\n",
       "      <td>33</td>\n",
       "    </tr>\n",
       "    <tr>\n",
       "      <td>payment_plan_start_date</td>\n",
       "      <td>NaN</td>\n",
       "      <td>NaN</td>\n",
       "      <td>NaN</td>\n",
       "      <td>NaN</td>\n",
       "      <td>30</td>\n",
       "    </tr>\n",
       "    <tr>\n",
       "      <td>hardship_end_date</td>\n",
       "      <td>NaN</td>\n",
       "      <td>NaN</td>\n",
       "      <td>NaN</td>\n",
       "      <td>NaN</td>\n",
       "      <td>29</td>\n",
       "    </tr>\n",
       "    <tr>\n",
       "      <td>debt_settlement_flag_date</td>\n",
       "      <td>NaN</td>\n",
       "      <td>NaN</td>\n",
       "      <td>NaN</td>\n",
       "      <td>Nov-2019</td>\n",
       "      <td>29</td>\n",
       "    </tr>\n",
       "    <tr>\n",
       "      <td>hardship_start_date</td>\n",
       "      <td>NaN</td>\n",
       "      <td>NaN</td>\n",
       "      <td>NaN</td>\n",
       "      <td>NaN</td>\n",
       "      <td>29</td>\n",
       "    </tr>\n",
       "    <tr>\n",
       "      <td>title</td>\n",
       "      <td>Credit card refinancing</td>\n",
       "      <td>Debt consolidation</td>\n",
       "      <td>Debt consolidation</td>\n",
       "      <td>Vacation</td>\n",
       "      <td>13</td>\n",
       "    </tr>\n",
       "    <tr>\n",
       "      <td>purpose</td>\n",
       "      <td>credit_card</td>\n",
       "      <td>debt_consolidation</td>\n",
       "      <td>debt_consolidation</td>\n",
       "      <td>vacation</td>\n",
       "      <td>13</td>\n",
       "    </tr>\n",
       "    <tr>\n",
       "      <td>issue_d</td>\n",
       "      <td>Mar-2017</td>\n",
       "      <td>Mar-2017</td>\n",
       "      <td>Mar-2017</td>\n",
       "      <td>Mar-2017</td>\n",
       "      <td>12</td>\n",
       "    </tr>\n",
       "    <tr>\n",
       "      <td>emp_length</td>\n",
       "      <td>3 years</td>\n",
       "      <td>10+ years</td>\n",
       "      <td>&lt; 1 year</td>\n",
       "      <td>&lt; 1 year</td>\n",
       "      <td>11</td>\n",
       "    </tr>\n",
       "    <tr>\n",
       "      <td>hardship_reason</td>\n",
       "      <td>NaN</td>\n",
       "      <td>NaN</td>\n",
       "      <td>NaN</td>\n",
       "      <td>NaN</td>\n",
       "      <td>9</td>\n",
       "    </tr>\n",
       "    <tr>\n",
       "      <td>grade</td>\n",
       "      <td>B</td>\n",
       "      <td>C</td>\n",
       "      <td>C</td>\n",
       "      <td>E</td>\n",
       "      <td>7</td>\n",
       "    </tr>\n",
       "    <tr>\n",
       "      <td>home_ownership</td>\n",
       "      <td>RENT</td>\n",
       "      <td>MORTGAGE</td>\n",
       "      <td>RENT</td>\n",
       "      <td>MORTGAGE</td>\n",
       "      <td>5</td>\n",
       "    </tr>\n",
       "    <tr>\n",
       "      <td>hardship_loan_status</td>\n",
       "      <td>NaN</td>\n",
       "      <td>NaN</td>\n",
       "      <td>NaN</td>\n",
       "      <td>NaN</td>\n",
       "      <td>5</td>\n",
       "    </tr>\n",
       "    <tr>\n",
       "      <td>settlement_status</td>\n",
       "      <td>NaN</td>\n",
       "      <td>NaN</td>\n",
       "      <td>NaN</td>\n",
       "      <td>ACTIVE</td>\n",
       "      <td>3</td>\n",
       "    </tr>\n",
       "    <tr>\n",
       "      <td>verification_status</td>\n",
       "      <td>Not Verified</td>\n",
       "      <td>Not Verified</td>\n",
       "      <td>Source Verified</td>\n",
       "      <td>Source Verified</td>\n",
       "      <td>3</td>\n",
       "    </tr>\n",
       "    <tr>\n",
       "      <td>verification_status_joint</td>\n",
       "      <td>NaN</td>\n",
       "      <td>NaN</td>\n",
       "      <td>NaN</td>\n",
       "      <td>NaN</td>\n",
       "      <td>3</td>\n",
       "    </tr>\n",
       "    <tr>\n",
       "      <td>debt_settlement_flag</td>\n",
       "      <td>N</td>\n",
       "      <td>N</td>\n",
       "      <td>N</td>\n",
       "      <td>Y</td>\n",
       "      <td>2</td>\n",
       "    </tr>\n",
       "    <tr>\n",
       "      <td>term</td>\n",
       "      <td>36 months</td>\n",
       "      <td>60 months</td>\n",
       "      <td>60 months</td>\n",
       "      <td>36 months</td>\n",
       "      <td>2</td>\n",
       "    </tr>\n",
       "    <tr>\n",
       "      <td>hardship_status</td>\n",
       "      <td>NaN</td>\n",
       "      <td>NaN</td>\n",
       "      <td>NaN</td>\n",
       "      <td>NaN</td>\n",
       "      <td>2</td>\n",
       "    </tr>\n",
       "    <tr>\n",
       "      <td>application_type</td>\n",
       "      <td>Individual</td>\n",
       "      <td>Individual</td>\n",
       "      <td>Individual</td>\n",
       "      <td>Individual</td>\n",
       "      <td>2</td>\n",
       "    </tr>\n",
       "    <tr>\n",
       "      <td>initial_list_status</td>\n",
       "      <td>w</td>\n",
       "      <td>w</td>\n",
       "      <td>w</td>\n",
       "      <td>f</td>\n",
       "      <td>2</td>\n",
       "    </tr>\n",
       "    <tr>\n",
       "      <td>hardship_type</td>\n",
       "      <td>NaN</td>\n",
       "      <td>NaN</td>\n",
       "      <td>NaN</td>\n",
       "      <td>NaN</td>\n",
       "      <td>1</td>\n",
       "    </tr>\n",
       "    <tr>\n",
       "      <td>hardship_flag</td>\n",
       "      <td>N</td>\n",
       "      <td>N</td>\n",
       "      <td>N</td>\n",
       "      <td>N</td>\n",
       "      <td>1</td>\n",
       "    </tr>\n",
       "    <tr>\n",
       "      <td>pymnt_plan</td>\n",
       "      <td>n</td>\n",
       "      <td>n</td>\n",
       "      <td>n</td>\n",
       "      <td>n</td>\n",
       "      <td>1</td>\n",
       "    </tr>\n",
       "  </tbody>\n",
       "</table>\n",
       "</div>"
      ],
      "text/plain": [
       "                                                                          70  \\\n",
       "url                        https://lendingclub.com/browse/loanDetail.acti...   \n",
       "emp_title                                                  VIP Art Associate   \n",
       "revol_util                                                             81.5%   \n",
       "zip_code                                                               113xx   \n",
       "earliest_cr_line                                                    Jan-2002   \n",
       "sec_app_earliest_cr_line                                                 NaN   \n",
       "int_rate                                                              11.49%   \n",
       "addr_state                                                                NY   \n",
       "last_credit_pull_d                                                  Nov-2018   \n",
       "last_pymnt_d                                                        Jun-2018   \n",
       "sub_grade                                                                 B5   \n",
       "settlement_date                                                          NaN   \n",
       "payment_plan_start_date                                                  NaN   \n",
       "hardship_end_date                                                        NaN   \n",
       "debt_settlement_flag_date                                                NaN   \n",
       "hardship_start_date                                                      NaN   \n",
       "title                                                Credit card refinancing   \n",
       "purpose                                                          credit_card   \n",
       "issue_d                                                             Mar-2017   \n",
       "emp_length                                                           3 years   \n",
       "hardship_reason                                                          NaN   \n",
       "grade                                                                      B   \n",
       "home_ownership                                                          RENT   \n",
       "hardship_loan_status                                                     NaN   \n",
       "settlement_status                                                        NaN   \n",
       "verification_status                                             Not Verified   \n",
       "verification_status_joint                                                NaN   \n",
       "debt_settlement_flag                                                       N   \n",
       "term                                                               36 months   \n",
       "hardship_status                                                          NaN   \n",
       "application_type                                                  Individual   \n",
       "initial_list_status                                                        w   \n",
       "hardship_type                                                            NaN   \n",
       "hardship_flag                                                              N   \n",
       "pymnt_plan                                                                 n   \n",
       "\n",
       "                                                                          71  \\\n",
       "url                        https://lendingclub.com/browse/loanDetail.acti...   \n",
       "emp_title                                                     Court Liaison    \n",
       "revol_util                                                             95.2%   \n",
       "zip_code                                                               088xx   \n",
       "earliest_cr_line                                                    Mar-1991   \n",
       "sec_app_earliest_cr_line                                                 NaN   \n",
       "int_rate                                                              14.99%   \n",
       "addr_state                                                                NJ   \n",
       "last_credit_pull_d                                                  Jan-2019   \n",
       "last_pymnt_d                                                        Feb-2019   \n",
       "sub_grade                                                                 C4   \n",
       "settlement_date                                                          NaN   \n",
       "payment_plan_start_date                                                  NaN   \n",
       "hardship_end_date                                                        NaN   \n",
       "debt_settlement_flag_date                                                NaN   \n",
       "hardship_start_date                                                      NaN   \n",
       "title                                                     Debt consolidation   \n",
       "purpose                                                   debt_consolidation   \n",
       "issue_d                                                             Mar-2017   \n",
       "emp_length                                                         10+ years   \n",
       "hardship_reason                                                          NaN   \n",
       "grade                                                                      C   \n",
       "home_ownership                                                      MORTGAGE   \n",
       "hardship_loan_status                                                     NaN   \n",
       "settlement_status                                                        NaN   \n",
       "verification_status                                             Not Verified   \n",
       "verification_status_joint                                                NaN   \n",
       "debt_settlement_flag                                                       N   \n",
       "term                                                               60 months   \n",
       "hardship_status                                                          NaN   \n",
       "application_type                                                  Individual   \n",
       "initial_list_status                                                        w   \n",
       "hardship_type                                                            NaN   \n",
       "hardship_flag                                                              N   \n",
       "pymnt_plan                                                                 n   \n",
       "\n",
       "                                                                          72  \\\n",
       "url                        https://lendingclub.com/browse/loanDetail.acti...   \n",
       "emp_title                                             Senior Account Manager   \n",
       "revol_util                                                             84.3%   \n",
       "zip_code                                                               640xx   \n",
       "earliest_cr_line                                                    Apr-2002   \n",
       "sec_app_earliest_cr_line                                                 NaN   \n",
       "int_rate                                                              14.99%   \n",
       "addr_state                                                                MO   \n",
       "last_credit_pull_d                                                  May-2018   \n",
       "last_pymnt_d                                                        May-2018   \n",
       "sub_grade                                                                 C4   \n",
       "settlement_date                                                          NaN   \n",
       "payment_plan_start_date                                                  NaN   \n",
       "hardship_end_date                                                        NaN   \n",
       "debt_settlement_flag_date                                                NaN   \n",
       "hardship_start_date                                                      NaN   \n",
       "title                                                     Debt consolidation   \n",
       "purpose                                                   debt_consolidation   \n",
       "issue_d                                                             Mar-2017   \n",
       "emp_length                                                          < 1 year   \n",
       "hardship_reason                                                          NaN   \n",
       "grade                                                                      C   \n",
       "home_ownership                                                          RENT   \n",
       "hardship_loan_status                                                     NaN   \n",
       "settlement_status                                                        NaN   \n",
       "verification_status                                          Source Verified   \n",
       "verification_status_joint                                                NaN   \n",
       "debt_settlement_flag                                                       N   \n",
       "term                                                               60 months   \n",
       "hardship_status                                                          NaN   \n",
       "application_type                                                  Individual   \n",
       "initial_list_status                                                        w   \n",
       "hardship_type                                                            NaN   \n",
       "hardship_flag                                                              N   \n",
       "pymnt_plan                                                                 n   \n",
       "\n",
       "                                                                          73  \\\n",
       "url                        https://lendingclub.com/browse/loanDetail.acti...   \n",
       "emp_title                                                   Machine Operator   \n",
       "revol_util                                                             11.2%   \n",
       "zip_code                                                               372xx   \n",
       "earliest_cr_line                                                    May-2007   \n",
       "sec_app_earliest_cr_line                                                 NaN   \n",
       "int_rate                                                              23.99%   \n",
       "addr_state                                                                TN   \n",
       "last_credit_pull_d                                                  Jan-2020   \n",
       "last_pymnt_d                                                        Feb-2019   \n",
       "sub_grade                                                                 E2   \n",
       "settlement_date                                                     Oct-2019   \n",
       "payment_plan_start_date                                                  NaN   \n",
       "hardship_end_date                                                        NaN   \n",
       "debt_settlement_flag_date                                           Nov-2019   \n",
       "hardship_start_date                                                      NaN   \n",
       "title                                                               Vacation   \n",
       "purpose                                                             vacation   \n",
       "issue_d                                                             Mar-2017   \n",
       "emp_length                                                          < 1 year   \n",
       "hardship_reason                                                          NaN   \n",
       "grade                                                                      E   \n",
       "home_ownership                                                      MORTGAGE   \n",
       "hardship_loan_status                                                     NaN   \n",
       "settlement_status                                                     ACTIVE   \n",
       "verification_status                                          Source Verified   \n",
       "verification_status_joint                                                NaN   \n",
       "debt_settlement_flag                                                       Y   \n",
       "term                                                               36 months   \n",
       "hardship_status                                                          NaN   \n",
       "application_type                                                  Individual   \n",
       "initial_list_status                                                        f   \n",
       "hardship_type                                                            NaN   \n",
       "hardship_flag                                                              N   \n",
       "pymnt_plan                                                                 n   \n",
       "\n",
       "                           unique  \n",
       "url                        263720  \n",
       "emp_title                   79726  \n",
       "revol_util                   1117  \n",
       "zip_code                      891  \n",
       "earliest_cr_line              666  \n",
       "sec_app_earliest_cr_line      566  \n",
       "int_rate                       67  \n",
       "addr_state                     50  \n",
       "last_credit_pull_d             39  \n",
       "last_pymnt_d                   38  \n",
       "sub_grade                      35  \n",
       "settlement_date                33  \n",
       "payment_plan_start_date        30  \n",
       "hardship_end_date              29  \n",
       "debt_settlement_flag_date      29  \n",
       "hardship_start_date            29  \n",
       "title                          13  \n",
       "purpose                        13  \n",
       "issue_d                        12  \n",
       "emp_length                     11  \n",
       "hardship_reason                 9  \n",
       "grade                           7  \n",
       "home_ownership                  5  \n",
       "hardship_loan_status            5  \n",
       "settlement_status               3  \n",
       "verification_status             3  \n",
       "verification_status_joint       3  \n",
       "debt_settlement_flag            2  \n",
       "term                            2  \n",
       "hardship_status                 2  \n",
       "application_type                2  \n",
       "initial_list_status             2  \n",
       "hardship_type                   1  \n",
       "hardship_flag                   1  \n",
       "pymnt_plan                      1  "
      ]
     },
     "execution_count": 8,
     "metadata": {},
     "output_type": "execute_result"
    }
   ],
   "source": [
    "non_nums = (data[non_numerical_columns][70:74].T)\n",
    "non_nums['unique'] = data[non_numerical_columns].nunique()\n",
    "non_nums.sort_values('unique', ascending=0)\n"
   ]
  },
  {
   "cell_type": "markdown",
   "metadata": {},
   "source": [
    "There are a few columns that are dates and % which can be enumerated."
   ]
  },
  {
   "cell_type": "code",
   "execution_count": 9,
   "metadata": {},
   "outputs": [],
   "source": [
    "pctstr_cols = ['int_rate', 'revol_util']\n",
    "datestr_cols = ['issue_d','earliest_cr_line', 'last_pymnt_d', 'last_credit_pull_d',\\\n",
    "                'settlement_date','payment_plan_start_date','hardship_end_date',\\\n",
    "               'debt_settlement_flag_date','hardship_start_date','sec_app_earliest_cr_line']\n",
    "def pcent_to_float(df, col):\n",
    "    return df[df[col].notnull()][col].apply(lambda x: (str(x)[:-1])).astype('float16')\n",
    "def date_to_int(df, col):\n",
    "    return ((pd.to_datetime(df[df[col].notnull()][col]) - pd.to_datetime(df[df[col].notnull()][col]).min())/ (10**11)).astype('int64').astype('int32')"
   ]
  },
  {
   "cell_type": "markdown",
   "metadata": {},
   "source": [
    "url is just link to the loan page and emp_title has too much dimensionality to be of use with this data set so will be removed."
   ]
  },
  {
   "cell_type": "code",
   "execution_count": 10,
   "metadata": {},
   "outputs": [],
   "source": [
    "non_numerical_columns = list(set(non_numerical_columns) - set(pctstr_cols) - set(datestr_cols))\n",
    "remove_cols = [non_numerical_columns.pop(non_numerical_columns.index('url'))]\n",
    "remove_cols.append(non_numerical_columns.pop(non_numerical_columns.index('emp_title')))"
   ]
  },
  {
   "cell_type": "code",
   "execution_count": 11,
   "metadata": {},
   "outputs": [],
   "source": [
    "remove_cols.append('id')\n",
    "remove_cols.append('Unnamed: 0')\n"
   ]
  },
  {
   "cell_type": "code",
   "execution_count": 12,
   "metadata": {},
   "outputs": [
    {
     "data": {
      "text/plain": [
       "['hardship_flag',\n",
       " 'term',\n",
       " 'initial_list_status',\n",
       " 'zip_code',\n",
       " 'hardship_reason',\n",
       " 'home_ownership',\n",
       " 'hardship_type',\n",
       " 'verification_status_joint',\n",
       " 'addr_state',\n",
       " 'application_type',\n",
       " 'verification_status',\n",
       " 'debt_settlement_flag',\n",
       " 'settlement_status',\n",
       " 'pymnt_plan',\n",
       " 'hardship_status',\n",
       " 'grade',\n",
       " 'hardship_loan_status',\n",
       " 'purpose',\n",
       " 'sub_grade',\n",
       " 'emp_length',\n",
       " 'title']"
      ]
     },
     "execution_count": 12,
     "metadata": {},
     "output_type": "execute_result"
    }
   ],
   "source": [
    "non_numerical_columns"
   ]
  },
  {
   "cell_type": "code",
   "execution_count": 13,
   "metadata": {},
   "outputs": [],
   "source": [
    "del data"
   ]
  },
  {
   "cell_type": "markdown",
   "metadata": {},
   "source": [
    "# Train Test Final Clean Up"
   ]
  },
  {
   "cell_type": "code",
   "execution_count": 127,
   "metadata": {},
   "outputs": [],
   "source": [
    "# train = pd.read_csv('Data/train.csv')\n",
    "train = pd.read_csv('train_2014.csv')\n",
    "test = pd.read_csv('test_2014.csv')\n",
    "final = pd.read_csv('final_2014.csv')\n",
    "files = [train, test, final]"
   ]
  },
  {
   "cell_type": "code",
   "execution_count": 128,
   "metadata": {},
   "outputs": [],
   "source": [
    "non_numerical_columns = list(set(non_numerical_columns)-\n",
    "                             set(['hardship_flag', 'hardship_type', 'pymnt_plan']))"
   ]
  },
  {
   "cell_type": "code",
   "execution_count": 129,
   "metadata": {},
   "outputs": [],
   "source": [
    "for file in files:\n",
    "    for col in pctstr_cols:\n",
    "        file[col] = pcent_to_float(file, col)\n",
    "    for col in datestr_cols:\n",
    "        file[col] = date_to_int(file, col)\n",
    "    file.drop(remove_cols, axis = 1, inplace=True)\n"
   ]
  },
  {
   "cell_type": "code",
   "execution_count": 130,
   "metadata": {},
   "outputs": [],
   "source": [
    "le = LabelEncoder()"
   ]
  },
  {
   "cell_type": "code",
   "execution_count": 131,
   "metadata": {},
   "outputs": [],
   "source": [
    "for file in files:\n",
    "    for col in non_numerical_columns:\n",
    "        le.fit(file[col].astype('str'))\n",
    "        file[col] = le.transform(file[col].astype('str'))"
   ]
  },
  {
   "cell_type": "markdown",
   "metadata": {},
   "source": [
    "# Variable Importance from RF"
   ]
  },
  {
   "cell_type": "code",
   "execution_count": 132,
   "metadata": {},
   "outputs": [],
   "source": [
    "y_train = train.loan_status\n",
    "y_test = test.loan_status\n",
    "y_final = final.loan_status\n",
    "X_train = train.drop('loan_status', axis=1)\n",
    "X_test = test.drop('loan_status', axis=1)\n",
    "X_final = final.drop('loan_status', axis=1)"
   ]
  },
  {
   "cell_type": "code",
   "execution_count": null,
   "metadata": {},
   "outputs": [],
   "source": []
  },
  {
   "cell_type": "code",
   "execution_count": 134,
   "metadata": {},
   "outputs": [],
   "source": [
    "X_train.fillna(0, inplace=True)\n",
    "X_test.fillna(0, inplace=True)"
   ]
  },
  {
   "cell_type": "code",
   "execution_count": 21,
   "metadata": {},
   "outputs": [],
   "source": [
    "fitrf = RandomForestClassifier(n_estimators = 500, oob_score = True, min_samples_leaf = 10)"
   ]
  },
  {
   "cell_type": "code",
   "execution_count": 28,
   "metadata": {},
   "outputs": [
    {
     "data": {
      "text/html": [
       "<div>\n",
       "<style scoped>\n",
       "    .dataframe tbody tr th:only-of-type {\n",
       "        vertical-align: middle;\n",
       "    }\n",
       "\n",
       "    .dataframe tbody tr th {\n",
       "        vertical-align: top;\n",
       "    }\n",
       "\n",
       "    .dataframe thead th {\n",
       "        text-align: right;\n",
       "    }\n",
       "</style>\n",
       "<table border=\"1\" class=\"dataframe\">\n",
       "  <thead>\n",
       "    <tr style=\"text-align: right;\">\n",
       "      <th></th>\n",
       "      <th>Description</th>\n",
       "    </tr>\n",
       "    <tr>\n",
       "      <th>LoanStatNew</th>\n",
       "      <th></th>\n",
       "    </tr>\n",
       "  </thead>\n",
       "  <tbody>\n",
       "    <tr>\n",
       "      <td>last_fico_range_high</td>\n",
       "      <td>The upper boundary range the borrower’s last F...</td>\n",
       "    </tr>\n",
       "    <tr>\n",
       "      <td>last_fico_range_low</td>\n",
       "      <td>The lower boundary range the borrower’s last F...</td>\n",
       "    </tr>\n",
       "    <tr>\n",
       "      <td>collection_recovery_fee</td>\n",
       "      <td>post charge off collection fee</td>\n",
       "    </tr>\n",
       "    <tr>\n",
       "      <td>last_pymnt_amnt</td>\n",
       "      <td>Last total payment amount received</td>\n",
       "    </tr>\n",
       "    <tr>\n",
       "      <td>recoveries</td>\n",
       "      <td>post charge off gross recovery</td>\n",
       "    </tr>\n",
       "    <tr>\n",
       "      <td>total_rec_prncp</td>\n",
       "      <td>Principal received to date</td>\n",
       "    </tr>\n",
       "    <tr>\n",
       "      <td>total_pymnt</td>\n",
       "      <td>Payments received to date for total amount funded</td>\n",
       "    </tr>\n",
       "    <tr>\n",
       "      <td>total_pymnt_inv</td>\n",
       "      <td>Payments received to date for portion of total...</td>\n",
       "    </tr>\n",
       "    <tr>\n",
       "      <td>funded_amnt</td>\n",
       "      <td>The total amount committed to that loan at tha...</td>\n",
       "    </tr>\n",
       "    <tr>\n",
       "      <td>loan_amnt</td>\n",
       "      <td>The listed amount of the loan applied for by t...</td>\n",
       "    </tr>\n",
       "    <tr>\n",
       "      <td>funded_amnt_inv</td>\n",
       "      <td>The total amount committed by investors for th...</td>\n",
       "    </tr>\n",
       "    <tr>\n",
       "      <td>installment</td>\n",
       "      <td>The monthly payment owed by the borrower if th...</td>\n",
       "    </tr>\n",
       "    <tr>\n",
       "      <td>debt_settlement_flag</td>\n",
       "      <td>Flags whether or not the borrower, who has cha...</td>\n",
       "    </tr>\n",
       "    <tr>\n",
       "      <td>settlement_status</td>\n",
       "      <td>The status of the borrower’s settlement plan. ...</td>\n",
       "    </tr>\n",
       "    <tr>\n",
       "      <td>last_pymnt_d</td>\n",
       "      <td>Last month payment was received</td>\n",
       "    </tr>\n",
       "    <tr>\n",
       "      <td>total_rec_int</td>\n",
       "      <td>Interest received to date</td>\n",
       "    </tr>\n",
       "    <tr>\n",
       "      <td>settlement_date</td>\n",
       "      <td>The date that the borrower agrees to the settl...</td>\n",
       "    </tr>\n",
       "    <tr>\n",
       "      <td>settlement_term</td>\n",
       "      <td>The number of months that the borrower will be...</td>\n",
       "    </tr>\n",
       "    <tr>\n",
       "      <td>debt_settlement_flag_date</td>\n",
       "      <td>The most recent date that the Debt_Settlement_...</td>\n",
       "    </tr>\n",
       "    <tr>\n",
       "      <td>settlement_percentage</td>\n",
       "      <td>The settlement amount as a percentage of the p...</td>\n",
       "    </tr>\n",
       "    <tr>\n",
       "      <td>settlement_amount</td>\n",
       "      <td>The loan amount that the borrower has agreed t...</td>\n",
       "    </tr>\n",
       "    <tr>\n",
       "      <td>total_rec_late_fee</td>\n",
       "      <td>Late fees received to date</td>\n",
       "    </tr>\n",
       "    <tr>\n",
       "      <td>sub_grade</td>\n",
       "      <td>LC assigned loan subgrade</td>\n",
       "    </tr>\n",
       "    <tr>\n",
       "      <td>last_credit_pull_d</td>\n",
       "      <td>The most recent month LC pulled credit for thi...</td>\n",
       "    </tr>\n",
       "    <tr>\n",
       "      <td>int_rate</td>\n",
       "      <td>Interest Rate on the loan</td>\n",
       "    </tr>\n",
       "    <tr>\n",
       "      <td>term</td>\n",
       "      <td>The number of payments on the loan. Values are...</td>\n",
       "    </tr>\n",
       "    <tr>\n",
       "      <td>grade</td>\n",
       "      <td>LC assigned loan grade</td>\n",
       "    </tr>\n",
       "    <tr>\n",
       "      <td>issue_d</td>\n",
       "      <td>The month which the loan was funded</td>\n",
       "    </tr>\n",
       "    <tr>\n",
       "      <td>hardship_last_payment_amount</td>\n",
       "      <td>The last payment amount as of the hardship pla...</td>\n",
       "    </tr>\n",
       "    <tr>\n",
       "      <td>revol_bal</td>\n",
       "      <td>Total credit revolving balance</td>\n",
       "    </tr>\n",
       "    <tr>\n",
       "      <td>fico_range_high</td>\n",
       "      <td>The upper boundary range the borrower’s FICO a...</td>\n",
       "    </tr>\n",
       "    <tr>\n",
       "      <td>hardship_start_date</td>\n",
       "      <td>The start date of the hardship plan period</td>\n",
       "    </tr>\n",
       "    <tr>\n",
       "      <td>hardship_end_date</td>\n",
       "      <td>The end date of the hardship plan period</td>\n",
       "    </tr>\n",
       "    <tr>\n",
       "      <td>payment_plan_start_date</td>\n",
       "      <td>The day the first hardship plan payment is due...</td>\n",
       "    </tr>\n",
       "    <tr>\n",
       "      <td>hardship_dpd</td>\n",
       "      <td>Account days past due as of the hardship plan ...</td>\n",
       "    </tr>\n",
       "  </tbody>\n",
       "</table>\n",
       "</div>"
      ],
      "text/plain": [
       "                                                                    Description\n",
       "LoanStatNew                                                                    \n",
       "last_fico_range_high          The upper boundary range the borrower’s last F...\n",
       "last_fico_range_low           The lower boundary range the borrower’s last F...\n",
       "collection_recovery_fee                          post charge off collection fee\n",
       "last_pymnt_amnt                              Last total payment amount received\n",
       "recoveries                                       post charge off gross recovery\n",
       "total_rec_prncp                                      Principal received to date\n",
       "total_pymnt                   Payments received to date for total amount funded\n",
       "total_pymnt_inv               Payments received to date for portion of total...\n",
       "funded_amnt                   The total amount committed to that loan at tha...\n",
       "loan_amnt                     The listed amount of the loan applied for by t...\n",
       "funded_amnt_inv               The total amount committed by investors for th...\n",
       "installment                   The monthly payment owed by the borrower if th...\n",
       "debt_settlement_flag          Flags whether or not the borrower, who has cha...\n",
       "settlement_status             The status of the borrower’s settlement plan. ...\n",
       "last_pymnt_d                                    Last month payment was received\n",
       "total_rec_int                                         Interest received to date\n",
       "settlement_date               The date that the borrower agrees to the settl...\n",
       "settlement_term               The number of months that the borrower will be...\n",
       "debt_settlement_flag_date     The most recent date that the Debt_Settlement_...\n",
       "settlement_percentage         The settlement amount as a percentage of the p...\n",
       "settlement_amount             The loan amount that the borrower has agreed t...\n",
       "total_rec_late_fee                                   Late fees received to date\n",
       "sub_grade                                             LC assigned loan subgrade\n",
       "last_credit_pull_d            The most recent month LC pulled credit for thi...\n",
       "int_rate                                              Interest Rate on the loan\n",
       "term                          The number of payments on the loan. Values are...\n",
       "grade                                                    LC assigned loan grade\n",
       "issue_d                                     The month which the loan was funded\n",
       "hardship_last_payment_amount  The last payment amount as of the hardship pla...\n",
       "revol_bal                                        Total credit revolving balance\n",
       "fico_range_high               The upper boundary range the borrower’s FICO a...\n",
       "hardship_start_date                  The start date of the hardship plan period\n",
       "hardship_end_date                      The end date of the hardship plan period\n",
       "payment_plan_start_date       The day the first hardship plan payment is due...\n",
       "hardship_dpd                  Account days past due as of the hardship plan ..."
      ]
     },
     "execution_count": 28,
     "metadata": {},
     "output_type": "execute_result"
    }
   ],
   "source": [
    "top = [X_features[i] for i in indices][-35:]\n",
    "top.reverse()\n",
    "definitions = pd.read_excel('./Data/LCDataDictionary.xlsx', index_col=0)\n",
    "topdef = definitions.loc[top]\n",
    "topdef"
   ]
  },
  {
   "cell_type": "code",
   "execution_count": 29,
   "metadata": {},
   "outputs": [
    {
     "data": {
      "text/plain": [
       "Index(['last_fico_range_high', 'last_fico_range_low',\n",
       "       'collection_recovery_fee', 'last_pymnt_amnt', 'recoveries',\n",
       "       'total_rec_prncp', 'total_pymnt', 'total_pymnt_inv', 'funded_amnt',\n",
       "       'loan_amnt', 'funded_amnt_inv', 'installment', 'debt_settlement_flag',\n",
       "       'settlement_status', 'last_pymnt_d', 'total_rec_int', 'settlement_date',\n",
       "       'settlement_term', 'debt_settlement_flag_date', 'settlement_percentage',\n",
       "       'settlement_amount', 'total_rec_late_fee', 'sub_grade',\n",
       "       'last_credit_pull_d', 'int_rate', 'term', 'grade', 'issue_d',\n",
       "       'hardship_last_payment_amount', 'revol_bal', 'fico_range_high',\n",
       "       'hardship_start_date', 'hardship_end_date', 'payment_plan_start_date',\n",
       "       'hardship_dpd'],\n",
       "      dtype='object', name='LoanStatNew')"
      ]
     },
     "execution_count": 29,
     "metadata": {},
     "output_type": "execute_result"
    }
   ],
   "source": [
    "(topdef.loc[top]).index"
   ]
  },
  {
   "cell_type": "code",
   "execution_count": 30,
   "metadata": {},
   "outputs": [],
   "source": [
    "post_hoc =['last_fico_range_high', 'last_fico_range_low', 'recoveries',\n",
    "       'collection_recovery_fee', 'last_pymnt_amnt', 'total_rec_prncp',\n",
    "       'total_pymnt', 'total_pymnt_inv', 'funded_amnt', 'funded_amnt_inv', 'debt_settlement_flag',\n",
    "       'settlement_term', 'last_pymnt_d', 'total_rec_int',\n",
    "       'settlement_percentage', 'debt_settlement_flag_date', 'settlement_date',\n",
    "       'settlement_amount', 'total_rec_late_fee', 'settlement_status',\n",
    "       'last_credit_pull_d','hardship_amount', 'payment_plan_start_date',\n",
    "       'hardship_dpd', 'hardship_payoff_balance_amount',\n",
    "       'hardship_last_payment_amount']"
   ]
  },
  {
   "cell_type": "code",
   "execution_count": 31,
   "metadata": {},
   "outputs": [],
   "source": [
    "vars_ = set(topdef.index) - set(post_hoc)"
   ]
  },
  {
   "cell_type": "code",
   "execution_count": 32,
   "metadata": {},
   "outputs": [],
   "source": [
    "X_train_2 = X_train.drop(post_hoc, axis = 1)"
   ]
  },
  {
   "cell_type": "code",
   "execution_count": 33,
   "metadata": {},
   "outputs": [],
   "source": [
    "fitrf_2 = RandomForestClassifier(n_estimators = 1000, oob_score = True, min_samples_leaf = 10)"
   ]
  },
  {
   "cell_type": "code",
   "execution_count": 34,
   "metadata": {},
   "outputs": [],
   "source": [
    "fitrf_2.fit(X_train_2, y_train)\n",
    "None"
   ]
  },
  {
   "cell_type": "code",
   "execution_count": 35,
   "metadata": {},
   "outputs": [],
   "source": [
    "X_features = list(X_train_2.columns)\n",
    "rf_importances = fitrf_2.feature_importances_\n"
   ]
  },
  {
   "cell_type": "code",
   "execution_count": 36,
   "metadata": {},
   "outputs": [
    {
     "data": {
      "image/png": "[encoded data removed]",
      "text/plain": [
       "<Figure size 864x2448 with 1 Axes>"
      ]
     },
     "metadata": {
      "needs_background": "light"
     },
     "output_type": "display_data"
    }
   ],
   "source": [
    "indices = np.argsort(rf_importances)\n",
    "\n",
    "fig = plt.figure(figsize=[12,34])\n",
    "axs = fig.subplots(1,1)\n",
    "plt.yticks(range(len(indices)), [X_features[i] for i in indices])\n",
    "axs.barh(range(len(indices)), rf_importances[indices], align='center')\n",
    "axs.set_title(\"Variable Importance Plot\", size ='14')\n",
    "axs.set_ylabel(\"Variables\", size='12'); axs.set_xlabel(\"Importance\", size='12')\n",
    "None"
   ]
  },
  {
   "cell_type": "code",
   "execution_count": 147,
   "metadata": {},
   "outputs": [
    {
     "data": {
      "text/plain": [
       "Index(['Description', 'posthoc(0=N,1=Y,2=M)'], dtype='object')"
      ]
     },
     "execution_count": 147,
     "metadata": {},
     "output_type": "execute_result"
    }
   ],
   "source": [
    "not_posthoc = pd.read_excel('LCDataDictionary.xlsx', index_col=0)\n",
    "not_posthoc.columns"
   ]
  },
  {
   "cell_type": "code",
   "execution_count": 146,
   "metadata": {},
   "outputs": [],
   "source": [
    "selected_cols = list(not_posthoc[not_posthoc['posthoc(0=N,1=Y,2=M)']==0.0].iloc[:,0].index)"
   ]
  },
  {
   "cell_type": "code",
   "execution_count": 148,
   "metadata": {},
   "outputs": [],
   "source": [
    "X_train.drop(set(X_train.columns) - set(selected_cols), inplace=True, axis=1)"
   ]
  },
  {
   "cell_type": "code",
   "execution_count": 149,
   "metadata": {},
   "outputs": [
    {
     "data": {
      "text/plain": [
       "Index(['member_id', 'loan_amnt', 'int_rate', 'installment', 'grade',\n",
       "       'sub_grade', 'emp_length', 'home_ownership', 'annual_inc',\n",
       "       'verification_status', 'issue_d', 'purpose', 'title', 'zip_code',\n",
       "       'addr_state', 'dti', 'earliest_cr_line', 'fico_range_low',\n",
       "       'fico_range_high', 'mths_since_last_record', 'open_acc', 'pub_rec',\n",
       "       'revol_bal', 'revol_util', 'initial_list_status', 'policy_code',\n",
       "       'application_type', 'annual_inc_joint', 'dti_joint', 'tot_coll_amt',\n",
       "       'all_util', 'inq_fi', 'total_cu_tl', 'inq_last_12m',\n",
       "       'mo_sin_old_il_acct', 'mo_sin_old_rev_tl_op', 'mort_acc',\n",
       "       'num_accts_ever_120_pd', 'num_bc_sats', 'num_bc_tl', 'num_il_tl',\n",
       "       'num_op_rev_tl', 'num_rev_accts', 'num_rev_tl_bal_gt_0', 'num_sats',\n",
       "       'num_tl_op_past_12m', 'pub_rec_bankruptcies', 'tax_liens',\n",
       "       'tot_hi_cred_lim', 'total_bal_ex_mort', 'total_bc_limit',\n",
       "       'total_il_high_credit_limit'],\n",
       "      dtype='object')"
      ]
     },
     "execution_count": 149,
     "metadata": {},
     "output_type": "execute_result"
    }
   ],
   "source": [
    "X_train.columns"
   ]
  },
  {
   "cell_type": "code",
   "execution_count": 163,
   "metadata": {},
   "outputs": [],
   "source": [
    "fitrf_2 = RandomForestClassifier(n_estimators = 200, oob_score = True, min_samples_leaf = 10)"
   ]
  },
  {
   "cell_type": "code",
   "execution_count": 164,
   "metadata": {},
   "outputs": [],
   "source": [
    "fitrf_2.fit(X_train, y_train)\n",
    "None"
   ]
  },
  {
   "cell_type": "code",
   "execution_count": 165,
   "metadata": {
    "scrolled": false
   },
   "outputs": [
    {
     "data": {
      "image/png": "[encoded data removed]",
      "text/plain": [
       "<Figure size 864x720 with 1 Axes>"
      ]
     },
     "metadata": {
      "needs_background": "light"
     },
     "output_type": "display_data"
    }
   ],
   "source": [
    "X_features = list(X_train.columns)\n",
    "rf_importances = fitrf_2.feature_importances_\n",
    "indices = np.argsort(rf_importances)\n",
    "\n",
    "fig = plt.figure(figsize=[12,10])\n",
    "axs = fig.subplots(1,1)\n",
    "plt.yticks(range(len(indices)), [X_features[i] for i in indices])\n",
    "axs.barh(range(len(indices)), rf_importances[indices], align='center')\n",
    "axs.set_title(\"Variable Importance Plot\", size ='14')\n",
    "axs.set_ylabel(\"Variables\", size='12'); axs.set_xlabel(\"Importance\", size='12')\n",
    "None\n"
   ]
  },
  {
   "cell_type": "code",
   "execution_count": 153,
   "metadata": {},
   "outputs": [],
   "source": [
    "X_test.drop(set(X_test.columns) - set(selected_cols), inplace=True, axis=1)"
   ]
  },
  {
   "cell_type": "code",
   "execution_count": 154,
   "metadata": {},
   "outputs": [
    {
     "data": {
      "text/plain": [
       "member_id                     0\n",
       "loan_amnt                     0\n",
       "int_rate                      0\n",
       "installment                   0\n",
       "grade                         0\n",
       "sub_grade                     0\n",
       "emp_length                    0\n",
       "home_ownership                0\n",
       "annual_inc                    0\n",
       "verification_status           0\n",
       "issue_d                       0\n",
       "purpose                       0\n",
       "title                         0\n",
       "zip_code                      0\n",
       "addr_state                    0\n",
       "dti                           0\n",
       "earliest_cr_line              0\n",
       "fico_range_low                0\n",
       "fico_range_high               0\n",
       "mths_since_last_record        0\n",
       "open_acc                      0\n",
       "pub_rec                       0\n",
       "revol_bal                     0\n",
       "revol_util                    0\n",
       "initial_list_status           0\n",
       "policy_code                   0\n",
       "application_type              0\n",
       "annual_inc_joint              0\n",
       "dti_joint                     0\n",
       "tot_coll_amt                  0\n",
       "all_util                      0\n",
       "inq_fi                        0\n",
       "total_cu_tl                   0\n",
       "inq_last_12m                  0\n",
       "mo_sin_old_il_acct            0\n",
       "mo_sin_old_rev_tl_op          0\n",
       "mort_acc                      0\n",
       "num_accts_ever_120_pd         0\n",
       "num_bc_sats                   0\n",
       "num_bc_tl                     0\n",
       "num_il_tl                     0\n",
       "num_op_rev_tl                 0\n",
       "num_rev_accts                 0\n",
       "num_rev_tl_bal_gt_0           0\n",
       "num_sats                      0\n",
       "num_tl_op_past_12m            0\n",
       "pub_rec_bankruptcies          0\n",
       "tax_liens                     0\n",
       "tot_hi_cred_lim               0\n",
       "total_bal_ex_mort             0\n",
       "total_bc_limit                0\n",
       "total_il_high_credit_limit    0\n",
       "dtype: int64"
      ]
     },
     "execution_count": 154,
     "metadata": {},
     "output_type": "execute_result"
    }
   ],
   "source": [
    "X_test.isnull().sum()"
   ]
  },
  {
   "cell_type": "code",
   "execution_count": 167,
   "metadata": {},
   "outputs": [],
   "source": [
    "y_hat = fitrf_2.predict(X_test)"
   ]
  },
  {
   "cell_type": "code",
   "execution_count": 168,
   "metadata": {},
   "outputs": [
    {
     "data": {
      "text/plain": [
       "0.8252344777829648"
      ]
     },
     "execution_count": 168,
     "metadata": {},
     "output_type": "execute_result"
    }
   ],
   "source": [
    "(y_test == y_hat).mean()"
   ]
  },
  {
   "cell_type": "code",
   "execution_count": 169,
   "metadata": {},
   "outputs": [
    {
     "data": {
      "text/plain": [
       "0.8249374018588465"
      ]
     },
     "execution_count": 169,
     "metadata": {},
     "output_type": "execute_result"
    }
   ],
   "source": [
    "1-y_test.mean()"
   ]
  }
 ],
 "metadata": {
  "kernelspec": {
   "display_name": "Python 3",
   "language": "python",
   "name": "python3"
  },
  "language_info": {
   "codemirror_mode": {
    "name": "ipython",
    "version": 3
   },
   "file_extension": ".py",
   "mimetype": "text/x-python",
   "name": "python",
   "nbconvert_exporter": "python",
   "pygments_lexer": "ipython3",
   "version": "3.7.4"
  }
 },
 "nbformat": 4,
 "nbformat_minor": 4
}
