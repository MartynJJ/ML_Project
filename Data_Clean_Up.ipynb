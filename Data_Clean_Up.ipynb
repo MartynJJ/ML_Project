{
 "cells": [
  {
   "cell_type": "markdown",
   "metadata": {},
   "source": [
    "Put csv's in ./Sample_data "
   ]
  },
  {
   "cell_type": "code",
   "execution_count": 2,
   "metadata": {},
   "outputs": [],
   "source": [
    "import pandas as pd\n",
    "import numpy as np"
   ]
  },
  {
   "cell_type": "code",
   "execution_count": 10,
   "metadata": {},
   "outputs": [],
   "source": [
    "dir_ = './Sample_data/'"
   ]
  },
  {
   "cell_type": "code",
   "execution_count": 28,
   "metadata": {},
   "outputs": [],
   "source": [
    "files = ['LoanStats3d_securev1.csv',\n",
    "         'LoanStats3c_securev1.csv',\n",
    "         'LoanStats3b_securev1.csv',\n",
    "         'LoanStats3a_securev1.csv',\n",
    "         'LoanStats_securev1_2016Q1.csv',\n",
    "         'LoanStats_securev1_2016Q2.csv',\n",
    "         'LoanStats_securev1_2016Q3.csv',\n",
    "         'LoanStats_securev1_2016Q4.csv',\n",
    "         'LoanStats_securev1_2017Q1.csv',\n",
    "         'LoanStats_securev1_2017Q2.csv',\n",
    "         'LoanStats_securev1_2017Q3.csv',\n",
    "         'LoanStats_securev1_2017Q4.csv']"
   ]
  },
  {
   "cell_type": "code",
   "execution_count": 21,
   "metadata": {},
   "outputs": [],
   "source": []
  },
  {
   "cell_type": "code",
   "execution_count": 29,
   "metadata": {},
   "outputs": [],
   "source": [
    "dfs = []\n",
    "for file in files:\n",
    "    dfs.append(pd.read_csv(dir_ + file, skiprows=1, low_memory=False,  index_col=0))"
   ]
  },
  {
   "cell_type": "code",
   "execution_count": 32,
   "metadata": {},
   "outputs": [],
   "source": [
    "full_loans = pd.concat(dfs)"
   ]
  },
  {
   "cell_type": "code",
   "execution_count": 33,
   "metadata": {},
   "outputs": [],
   "source": [
    "completed_loans = full_loans[full_loans.loan_status.isin([\"Fully Paid\",\"Charged Off\"])]"
   ]
  },
  {
   "cell_type": "code",
   "execution_count": 35,
   "metadata": {},
   "outputs": [],
   "source": [
    "completed_loans.to_csv(r'Data\\completed_loans.csv')"
   ]
  }
 ],
 "metadata": {
  "kernelspec": {
   "display_name": "Python 3",
   "language": "python",
   "name": "python3"
  },
  "language_info": {
   "codemirror_mode": {
    "name": "ipython",
    "version": 3
   },
   "file_extension": ".py",
   "mimetype": "text/x-python",
   "name": "python",
   "nbconvert_exporter": "python",
   "pygments_lexer": "ipython3",
   "version": "3.7.4"
  }
 },
 "nbformat": 4,
 "nbformat_minor": 2
}
