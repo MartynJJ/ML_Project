{
 "cells": [
  {
   "cell_type": "code",
   "execution_count": 2,
   "metadata": {},
   "outputs": [],
   "source": [
    "import numpy as np\n",
    "import pandas as pd\n",
    "import matplotlib.pyplot as plt\n",
    "import seaborn as sns\n",
    "from sklearn.ensemble import RandomForestClassifier\n",
    "from sklearn.model_selection import train_test_split\n",
    "from sklearn.preprocessing import LabelEncoder"
   ]
  },
  {
   "cell_type": "code",
   "execution_count": 8,
   "metadata": {},
   "outputs": [
    {
     "data": {
      "text/plain": [
       "Index(['Description', 'posthoc(0=N,1=Y,2=M)'], dtype='object')"
      ]
     },
     "execution_count": 8,
     "metadata": {},
     "output_type": "execute_result"
    }
   ],
   "source": [
    "#2 WW 1 WC\n",
    "not_posthoc = pd.read_excel('LCDataDictionary.xlsx', index_col=0)\n",
    "not_posthoc.columns"
   ]
  },
  {
   "cell_type": "code",
   "execution_count": 17,
   "metadata": {},
   "outputs": [
    {
     "data": {
      "text/plain": [
       "LoanStatNew\n",
       "addr_state                              The state provided by the borrower in the loan...\n",
       "all_util                                            Balance to credit limit on all trades\n",
       "annual_inc                              The self-reported annual income provided by th...\n",
       "annual_inc_joint                        The combined self-reported annual income provi...\n",
       "application_type                        Indicates whether the loan is an individual ap...\n",
       "                                                              ...                        \n",
       "sec_app_revol_util                       Ratio of total current balance to high credit...\n",
       "sec_app_num_rev_accts                    Number of revolving accounts at time of appli...\n",
       "sec_app_mths_since_last_major_derog      Months since most recent 90-day or worse rati...\n",
       "disbursement_method                     The method by which the borrower receives thei...\n",
       "settlement_amount                       The loan amount that the borrower has agreed t...\n",
       "Name: Description, Length: 72, dtype: object"
      ]
     },
     "execution_count": 17,
     "metadata": {},
     "output_type": "execute_result"
    }
   ],
   "source": [
    "not_posthoc[not_posthoc['posthoc(0=N,1=Y,2=M)']==0.0].iloc[:,0]"
   ]
  },
  {
   "cell_type": "code",
   "execution_count": null,
   "metadata": {},
   "outputs": [],
   "source": []
  }
 ],
 "metadata": {
  "kernelspec": {
   "display_name": "Python 3",
   "language": "python",
   "name": "python3"
  },
  "language_info": {
   "codemirror_mode": {
    "name": "ipython",
    "version": 3
   },
   "file_extension": ".py",
   "mimetype": "text/x-python",
   "name": "python",
   "nbconvert_exporter": "python",
   "pygments_lexer": "ipython3",
   "version": "3.7.4"
  }
 },
 "nbformat": 4,
 "nbformat_minor": 2
}
