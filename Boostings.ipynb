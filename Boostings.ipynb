{
 "cells": [
  {
   "cell_type": "code",
   "execution_count": 1,
   "metadata": {},
   "outputs": [],
   "source": [
    "import numpy as np\n",
    "import pandas as pd\n",
    "import matplotlib.pyplot as plt\n",
    "import seaborn as sns\n",
    "from sklearn.ensemble import RandomForestClassifier\n",
    "from sklearn.model_selection import train_test_split\n",
    "from sklearn.preprocessing import LabelEncoder"
   ]
  },
  {
   "cell_type": "code",
   "execution_count": 13,
   "metadata": {},
   "outputs": [],
   "source": [
    "chosen_vars =['pub_rec_bankruptcies',\n",
    " 'pub_rec',\n",
    " 'num_accts_ever_120_pd',\n",
    " 'initial_list_status',\n",
    " 'purpose',\n",
    " 'title',\n",
    " 'tot_coll_amt',\n",
    " 'home_ownership',\n",
    " 'mths_since_last_record',\n",
    " 'inq_last_6mths',\n",
    " 'verification_status',\n",
    " 'num_actv_bc_tl',\n",
    " 'mort_acc',\n",
    " 'num_bc_sats',\n",
    " 'num_rev_tl_bal_gt_0',\n",
    " 'num_tl_op_past_12m',\n",
    " 'num_actv_rev_tl',\n",
    " 'num_op_rev_tl',\n",
    " 'open_acc',\n",
    " 'num_sats',\n",
    " 'num_bc_tl',\n",
    " 'issue_d',\n",
    " 'emp_length',\n",
    " 'fico_range_low',\n",
    " 'fico_range_high',\n",
    " 'num_il_tl',\n",
    " 'num_rev_accts',\n",
    " 'term',\n",
    " 'acc_open_past_24mths',\n",
    " 'addr_state',\n",
    " 'total_il_high_credit_limit',\n",
    " 'loan_amnt',\n",
    " 'earliest_cr_line',\n",
    " 'mo_sin_old_il_acct',\n",
    " 'total_bal_ex_mort',\n",
    " 'zip_code',\n",
    " 'total_bc_limit',\n",
    " 'revol_util',\n",
    " 'revol_bal',\n",
    " 'bc_open_to_buy',\n",
    " 'mo_sin_old_rev_tl_op',\n",
    " 'installment',\n",
    " 'annual_inc',\n",
    " 'tot_hi_cred_lim',\n",
    " 'avg_cur_bal',\n",
    " 'grade',\n",
    " 'dti',\n",
    " 'int_rate',\n",
    " 'sub_grade']"
   ]
  },
  {
   "cell_type": "code",
   "execution_count": 3,
   "metadata": {},
   "outputs": [],
   "source": [
    "non_numerical_columns = ['verification_status_joint',\n",
    " 'addr_state',\n",
    " 'application_type',\n",
    " 'verification_status',\n",
    " 'debt_settlement_flag',\n",
    " 'settlement_status',\n",
    " 'hardship_status',\n",
    " 'term',\n",
    " 'grade',\n",
    " 'initial_list_status',\n",
    " 'hardship_loan_status',\n",
    " 'purpose',\n",
    " 'hardship_reason',\n",
    " 'zip_code',\n",
    " 'sub_grade',\n",
    " 'emp_length',\n",
    " 'title',\n",
    " 'home_ownership']"
   ]
  },
  {
   "cell_type": "code",
   "execution_count": 4,
   "metadata": {},
   "outputs": [],
   "source": [
    "train = pd.read_csv('train_2014.csv', low_memory=False)\n",
    "test = pd.read_csv('test_2014.csv', low_memory=False)\n",
    "final = pd.read_csv('final_2014.csv', low_memory=False)\n",
    "files = [train, test, final]"
   ]
  },
  {
   "cell_type": "code",
   "execution_count": 5,
   "metadata": {},
   "outputs": [],
   "source": [
    "non_numerical_columns = list(set(non_numerical_columns)-\n",
    "                             set(['hardship_flag', 'hardship_type', 'pymnt_plan']))"
   ]
  },
  {
   "cell_type": "code",
   "execution_count": 6,
   "metadata": {},
   "outputs": [],
   "source": [
    "pctstr_cols = ['int_rate', 'revol_util']\n",
    "datestr_cols = ['issue_d','earliest_cr_line', 'last_pymnt_d', 'last_credit_pull_d',\\\n",
    "                'settlement_date','payment_plan_start_date','hardship_end_date',\\\n",
    "               'debt_settlement_flag_date','hardship_start_date','sec_app_earliest_cr_line']\n",
    "def pcent_to_float(df, col):\n",
    "    return df[df[col].notnull()][col].apply(lambda x: (str(x)[:-1])).astype('float16')\n",
    "def date_to_int(df, col):\n",
    "    return ((pd.to_datetime(df[df[col].notnull()][col]) - pd.to_datetime(df[df[col].notnull()][col]).min())/ (10**11)).astype('int64').astype('int32')"
   ]
  },
  {
   "cell_type": "code",
   "execution_count": 7,
   "metadata": {},
   "outputs": [],
   "source": [
    "remove_cols = ['url', 'emp_title', 'id', 'Unnamed: 0', 'id', 'Unnamed: 0','member_id']"
   ]
  },
  {
   "cell_type": "code",
   "execution_count": 8,
   "metadata": {},
   "outputs": [],
   "source": [
    "for file in files:\n",
    "    for col in pctstr_cols:\n",
    "        file[col] = pcent_to_float(file, col)\n",
    "    for col in datestr_cols:\n",
    "        file[col] = date_to_int(file, col)\n",
    "    file.drop(remove_cols, axis = 1, inplace=True)\n"
   ]
  },
  {
   "cell_type": "code",
   "execution_count": 9,
   "metadata": {},
   "outputs": [],
   "source": [
    "le = LabelEncoder()"
   ]
  },
  {
   "cell_type": "code",
   "execution_count": 10,
   "metadata": {},
   "outputs": [],
   "source": [
    "for file in files:\n",
    "    for col in non_numerical_columns:\n",
    "        le.fit(file[col].astype('str'))\n",
    "        file[col] = le.transform(file[col].astype('str'))"
   ]
  },
  {
   "cell_type": "code",
   "execution_count": 11,
   "metadata": {},
   "outputs": [],
   "source": [
    "y_train = train.loan_status\n",
    "y_test = test.loan_status\n",
    "y_final = final.loan_status\n",
    "X_train = train.drop('loan_status', axis=1)\n",
    "X_test = test.drop('loan_status', axis=1)\n",
    "X_final = final.drop('loan_status', axis=1)"
   ]
  },
  {
   "cell_type": "code",
   "execution_count": 12,
   "metadata": {},
   "outputs": [],
   "source": [
    "X_train.drop(set(X_train.columns) - set(chosen_vars), inplace=True, axis=1)\n",
    "X_test.drop(set(X_test.columns) - set(chosen_vars), inplace=True, axis=1)\n",
    "X_final.drop(set(X_final.columns) - set(chosen_vars), inplace=True, axis=1)"
   ]
  },
  {
   "cell_type": "code",
   "execution_count": null,
   "metadata": {},
   "outputs": [],
   "source": []
  }
 ],
 "metadata": {
  "kernelspec": {
   "display_name": "Python 3",
   "language": "python",
   "name": "python3"
  },
  "language_info": {
   "codemirror_mode": {
    "name": "ipython",
    "version": 3
   },
   "file_extension": ".py",
   "mimetype": "text/x-python",
   "name": "python",
   "nbconvert_exporter": "python",
   "pygments_lexer": "ipython3",
   "version": "3.7.4"
  }
 },
 "nbformat": 4,
 "nbformat_minor": 2
}
